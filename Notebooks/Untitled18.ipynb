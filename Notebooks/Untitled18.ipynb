{
  "nbformat": 4,
  "nbformat_minor": 0,
  "metadata": {
    "colab": {
      "private_outputs": true,
      "provenance": []
    },
    "kernelspec": {
      "name": "python3",
      "display_name": "Python 3"
    },
    "language_info": {
      "name": "python"
    }
  },
  "cells": [
    {
      "cell_type": "code",
      "source": [
        "import zipfile\n",
        "import os\n",
        "\n",
        "zip_path = '/content/drive/MyDrive/MachineLearningRating_v3.zip'\n",
        "extract_path = '/content/extracted_data'\n",
        "\n",
        "# Extract\n",
        "with zipfile.ZipFile(zip_path, 'r') as zip_ref:\n",
        "    zip_ref.extractall(extract_path)\n",
        "\n",
        "# List all extracted files (regardless of type)\n",
        "print(\"Listing all extracted files:\")\n",
        "for root, dirs, files in os.walk(extract_path):\n",
        "    for file in files:\n",
        "        print(os.path.join(root, file))\n"
      ],
      "metadata": {
        "id": "kFLWZAE5_SBw"
      },
      "execution_count": null,
      "outputs": []
    },
    {
      "cell_type": "code",
      "source": [
        "with open(txt_path,'r') as f:\n",
        "    for _ in range(3):\n",
        "      print(f.readline())"
      ],
      "metadata": {
        "id": "IzEmMxZELNpG"
      },
      "execution_count": null,
      "outputs": []
    },
    {
      "cell_type": "code",
      "source": [
        "import pandas as pd\n",
        "df=pd.read_csv('/content/extracted_data/MachineLearningRating_v3.txt',sep='|',low_memory=False)\n",
        "df.head()"
      ],
      "metadata": {
        "id": "nnZIe6kP_tYD"
      },
      "execution_count": null,
      "outputs": []
    },
    {
      "cell_type": "code",
      "source": [
        "df[['TotalPremium', 'TotalClaims', 'CustomValueEstimate', 'CalculatedPremiumPerTerm']].describe()\n"
      ],
      "metadata": {
        "id": "cwsb3_PrKlWq"
      },
      "execution_count": null,
      "outputs": []
    },
    {
      "cell_type": "markdown",
      "source": [
        "Coeffiecent of varaion"
      ],
      "metadata": {
        "id": "858zmdWeubY7"
      }
    },
    {
      "cell_type": "markdown",
      "source": [
        "Data Sturucture"
      ],
      "metadata": {
        "id": "xSAnmoYevsem"
      }
    },
    {
      "cell_type": "code",
      "source": [
        "df.dtypes"
      ],
      "metadata": {
        "id": "IcoO2WL1YbMW"
      },
      "execution_count": null,
      "outputs": []
    },
    {
      "cell_type": "markdown",
      "source": [
        "cheack for missing value"
      ],
      "metadata": {
        "id": "pJiOYWT0P79Y"
      }
    },
    {
      "cell_type": "code",
      "source": [
        "df.isna().sum()"
      ],
      "metadata": {
        "id": "ZuVWxp3dPn1E"
      },
      "execution_count": null,
      "outputs": []
    },
    {
      "cell_type": "markdown",
      "source": [
        "# **Data Quality Assessment:**"
      ],
      "metadata": {
        "id": "qR3Cqg2wb6TX"
      }
    },
    {
      "cell_type": "code",
      "metadata": {
        "id": "9a0a4b06"
      },
      "source": [
        "\n",
        "categorical_cols = df.select_dtypes(include=['object', 'bool']).columns\n",
        "numerical_cols = df.select_dtypes(include=['int64', 'float64']).columns\n",
        "\n",
        "df_filled = df.copy()\n",
        "\n",
        "for col in categorical_cols:\n",
        "    mode_value = df_filled[col].mode()\n",
        "    if not mode_value.empty:\n",
        "        df_filled[col].fillna(mode_value[0], inplace=True)\n",
        "for col in numerical_cols:\n",
        "    mean_value = df_filled[col].mean()\n",
        "    df_filled[col].fillna(mean_value, inplace=True)\n",
        "\n",
        "print(\"Missing values after filling:\")\n",
        "print(df_filled.isna().sum())\n"
      ],
      "execution_count": null,
      "outputs": []
    },
    {
      "cell_type": "code",
      "source": [
        "df_filled.drop('NumberOfVehiclesInFleet',axis=1,inplace=True)"
      ],
      "metadata": {
        "id": "N3kGW-8kgaKn"
      },
      "execution_count": null,
      "outputs": []
    },
    {
      "cell_type": "markdown",
      "source": [
        "Univariate Analysis"
      ],
      "metadata": {
        "id": "B_60ik1pwL8H"
      }
    },
    {
      "cell_type": "code",
      "source": [
        "import seaborn as sns\n",
        "import matplotlib.pyplot as plt\n",
        "\n",
        "for col in numerical_cols:\n",
        "  plt.figure(figsize=(8,6))\n",
        "\n",
        "# Add plt.show() to display the plot\n",
        "  sns.histplot(data=df_filled,x=col,kde=True)\n",
        "  plt.title(f\"{col} Distribution\")\n",
        "  plt.xticks(rotation=45)\n",
        "  plt.show()\n",
        "\n",
        "\n"
      ],
      "metadata": {
        "id": "L7M9G89bgml0"
      },
      "execution_count": null,
      "outputs": []
    },
    {
      "cell_type": "code",
      "source": [
        "\n",
        "for col in categorical_col:\n",
        "  plt.figure(figsize=(8,6))\n",
        "  sns.countplot(data=df_filled,x=col)\n",
        "  plt.title(f\"{col} Distribution\")\n",
        "  plt.tight_layout()\n",
        "  plt.xticks(rotation=45)\n",
        "  plt.show()"
      ],
      "metadata": {
        "id": "c3esAG9n0UwH"
      },
      "execution_count": null,
      "outputs": []
    },
    {
      "cell_type": "markdown",
      "source": [
        "Bivariate Scatter plot"
      ],
      "metadata": {
        "id": "gyySAbv4H3ru"
      }
    },
    {
      "cell_type": "code",
      "source": [
        "df_filled['TransactionMonth']=pd.to_datetime(df['TransactionMonth'])\n"
      ],
      "metadata": {
        "id": "YPJ0B7EJH0wX"
      },
      "execution_count": null,
      "outputs": []
    },
    {
      "cell_type": "code",
      "source": [
        "pair_df=df_filled[['TotalPremium','TotalClaims','PostalCode','TransactionMonth']]"
      ],
      "metadata": {
        "id": "3J_CE4pLL7t0"
      },
      "execution_count": null,
      "outputs": []
    },
    {
      "cell_type": "code",
      "source": [
        "import matplotlib.pyplot as plt\n"
      ],
      "metadata": {
        "id": "DQ2_V7-EjdY3"
      },
      "execution_count": null,
      "outputs": []
    },
    {
      "cell_type": "code",
      "source": [
        "plt.title(\"Bivariaite\")\n",
        "sns.scatterplot(data=pair_df,x='TotalPremium',y='TotalClaims',hue='PostalCode')\n",
        "plt.tight_layout()"
      ],
      "metadata": {
        "id": "z7XSOXv_dT9I"
      },
      "execution_count": null,
      "outputs": []
    },
    {
      "cell_type": "code",
      "source": [
        "\n",
        "pair_value=df[['TotalPremium','TotalClaims','PostalCode']]\n",
        "corr_matrix=pair_value.corr()\n",
        "print(corr_matrix)\n",
        "sns.heatmap(corr_matrix,annot=True,cmap='coolwarm')\n"
      ],
      "metadata": {
        "id": "GxORY993fcU3"
      },
      "execution_count": null,
      "outputs": []
    },
    {
      "cell_type": "markdown",
      "source": [],
      "metadata": {
        "id": "IK9HwddHyfKg"
      }
    },
    {
      "cell_type": "code",
      "source": [],
      "metadata": {
        "id": "BDriEJYGx5cF"
      },
      "execution_count": null,
      "outputs": []
    },
    {
      "cell_type": "markdown",
      "source": [
        "Data Comparison"
      ],
      "metadata": {
        "id": "KtfUdQyUCgZS"
      }
    },
    {
      "cell_type": "code",
      "source": [
        "plt.figure(figsize=(14,6))\n",
        "sns.countplot(data=df_filled,x=\"Province\",hue='CoverType')\n",
        "plt.title(\"Cover type distribtion\")\n",
        "plt.xticks(rotation=45)"
      ],
      "metadata": {
        "id": "pokBUsAl7XvH"
      },
      "execution_count": null,
      "outputs": []
    },
    {
      "cell_type": "code",
      "metadata": {
        "id": "8edf5dde"
      },
      "source": [
        "import seaborn as sns\n",
        "import matplotlib.pyplot as plt\n",
        "\n",
        "# Calculate the average TotalPremium for each Province\n",
        "average_premium_by_province = df_filled.groupby('Province')['TotalPremium'].mean().reset_index()\n",
        "\n",
        "# Create a bar plot\n",
        "plt.figure(figsize=(12, 6))\n",
        "sns.barplot(data=average_premium_by_province, x='Province', y='TotalPremium')\n",
        "plt.title('Average Total Premium by Province')\n",
        "plt.xlabel('Province')\n",
        "plt.ylabel('Average Total Premium')\n",
        "plt.xticks(rotation=45, ha='right') # Rotate labels for better readability\n",
        "plt.tight_layout() # Adjust layout to prevent labels overlapping\n",
        "plt.show()"
      ],
      "execution_count": null,
      "outputs": []
    },
    {
      "cell_type": "code",
      "source": [],
      "metadata": {
        "id": "yLT0mA35ADA1"
      },
      "execution_count": null,
      "outputs": []
    }
  ]
}